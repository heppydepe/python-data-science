{
 "cells": [
  {
   "cell_type": "markdown",
   "id": "df0f18b0",
   "metadata": {},
   "source": [
    "# Assignment Statement\n",
    "\n",
    "* One thing that's common in programs is to give names to values. This is called 'assignment'.\n",
    "* `person_name = 'John Smith'` is an assignment statement. `person_name` on the left is a 'variable' (note that it has no quotes). `'John Smith'` on the right is a 'literal'\n",
    "* `person_age = 25` is also an assignment statement. Only difference is now we have assigned a number (25) to a variable named person_age\n",
    "* `total_value = 25 + 35 + 45` is also an assignment statement. First the value of `25 + 35 + 45` is calculated and the result is assigned to a variable named `total_value`.\n",
    "* Variable names are not put in quotes. Text values like 'John Smith' and \"This is my chat message\" are put in single or double quotes. Numbers and Boolean Values (True, False) are not put in quotes.\n"
   ]
  },
  {
   "cell_type": "markdown",
   "id": "b61c9b84",
   "metadata": {},
   "source": [
    "# The print function\n",
    "\n",
    "* `print(\"Hello World!\")` prints \"Hello World!\" to the screen. Text (like 'Hello World!') are called `strings` in Python and should be enclosed in single or double quotes. Numbers and Booleans (True, False) should not be enclosed in quotes.\n",
    "* `print()` is called a `function` in Python. `print` is the name of the function and the text you provide inside brackets is called an `argument`. As you work with Python you will use a lot more functions and even write your own functions.\n",
    "* `print(\"Hello\", \"World!\")` prints the same thing as above. You can put any number of items in and the `print()` function will print them separated by spaces. Now you have provided two arguments to print.\n",
    "* `print(\"John\", \"James\", \"Stuart\", \"Jacob\", sep=\", \")` prints the same thing as above but uses a comma as a separator. Now you have provided three arguments to the print function. One of them - `sep` is a 'keyword argument' - an argument that has a name."
   ]
  },
  {
   "cell_type": "markdown",
   "id": "2826555e",
   "metadata": {},
   "source": [
    "# Dictionaries\n",
    "\n",
    "In Python, a collection is a bunch of values grouped together. A dictionary is a type of such a collection. It is a list of values where each value has a key associated with it.\n",
    "\n",
    "Say we want to store a list of voting ages in different countries. It would be cumbersome to create and work with lots of variables like `usa_voting_age`, `india_voting_age`, `singapore_voting_age` and so on.\n",
    "\n",
    "Instead, we create a dictionary. We will name this dictionary `voting_ages`. The country names will be 'keys' and the voting ages will be 'values'. When we need the voting age of India, we can simply fetch it by `voting_ages['India']`.\n",
    "\n",
    "Dictionaries are created by specifying a list of `key:value` inside a set of curly brackets."
   ]
  },
  {
   "cell_type": "code",
   "execution_count": 182,
   "id": "88d5c62c",
   "metadata": {},
   "outputs": [
    {
     "name": "stdout",
     "output_type": "stream",
     "text": [
      "Voting age in China is 18\n"
     ]
    }
   ],
   "source": [
    "voting_ages = {\n",
    "    \"India\": 18,\n",
    "    \"USA\": 18,\n",
    "    \"China\": 18,\n",
    "    \"Australia\": 18,\n",
    "    \"Singapore\": 21,\n",
    "    \"Malaysia\": 21\n",
    "}\n",
    "\n",
    "print(\"Voting age in China is\", voting_ages['China'])"
   ]
  },
  {
   "cell_type": "markdown",
   "id": "5673725a",
   "metadata": {},
   "source": [
    "\n",
    "# Looping\n",
    "\n",
    "How common are tasks like, 'add up all the values in this list', 'print all the names from this list', 'check which of the items in this list weight heavier than 20 kilograms'? Pretty common right? Almost all of your time as a data science programmer will be spent doing loops. There are different types of loops in Python. Let's learn one common loop - looping through a collection.\n",
    "\n",
    "**Syntax of a loop :**\n",
    "```python\n",
    "for variable_name in collection:\n",
    "    inside_the_loop()\n",
    "    print(variable_name)\n",
    "    do_some_more_things()\n",
    "# outside the loop now\n",
    "print('Loop finished.')\n",
    "```\n",
    "\n",
    "`for variable_name in collection:` marks the start of a loop. This means 'execute the following statements for every value in the collection'. Each value in the collection is assigned to the variable_name, and then the set of statements underneath it are executed. This is repeated for every element in the collection.\n",
    "\n",
    "The following statements after that are indented to denote that they are part of the loop. The set of statements with the indent is called a 'block'. The block ends when we stop indenting."
   ]
  },
  {
   "cell_type": "code",
   "execution_count": 183,
   "id": "76f8ac27",
   "metadata": {},
   "outputs": [
    {
     "name": "stdout",
     "output_type": "stream",
     "text": [
      "Voting age in India is 18\n",
      "Voting age in USA is 18\n",
      "Voting age in China is 18\n",
      "Voting age in Australia is 18\n",
      "Voting age in Singapore is 21\n",
      "Voting age in Malaysia is 21\n"
     ]
    }
   ],
   "source": [
    "for country in voting_ages:\n",
    "    # country is a variable which gets each key in the dictionary\n",
    "    # in this case, each country name.\n",
    "    print(\"Voting age in\", country, \"is\", voting_ages[country])"
   ]
  },
  {
   "cell_type": "markdown",
   "id": "ff90f90c",
   "metadata": {},
   "source": [
    "# Preparing data from text\n",
    "\n",
    "One common task done in data science is to read a bunch of text line-by-line and create better quality data from it. For example, if each line of your data is like `\"John Smith,35,Male,Australia\"` - name, age, sex and country separated by commas. It would be easier to work with, if it was a dictionary with each of those values mapped to their corresponding names.\n",
    "\n",
    "So that line of text gets converted into a dictionary - `{\"name\": \"John Smith\", \"age\": 35, \"sex\": \"Male\", \"country\": \"Australia\"}`.\n",
    "\n",
    "Obviously you have several lines of such data. So we can create a `list` of this data for easier processing. A `list` is another type of collection in Python. Dictionaries have 'keys' to access the values, whereas lists don't have keys - it's just a collection of values. You can access list values using the looping syntax we saw above, or by using a numerical `index`. Lists are created by specifying a bunch of values inside square brackets.\n",
    "\n",
    "```python\n",
    "list_names = [\"John\", \"Jacob\", \"James\", \"Julie\"]\n",
    "print(list_names[0]) # will print \"John\"\n",
    "print(list_names[1]) # will print \"Jacob\"\n",
    "```"
   ]
  },
  {
   "cell_type": "code",
   "execution_count": 184,
   "id": "d974df55",
   "metadata": {},
   "outputs": [],
   "source": [
    "data_list = [\n",
    "    \"John Smith,35,Male,Australia\",\n",
    "    \"Lily Pina,13,Female,USA\",\n",
    "    \"Julie Singh,16,Female,India\",\n",
    "    \"Rita Stuart,20,Female,Singapore\",\n",
    "    \"Trisha Patrick,32,Female,USA\",\n",
    "    \"Adam Stork,32,Male,USA\",\n",
    "    \"Mohamed Ashiq,20,Male,Malaysia\",\n",
    "    \"Yogi Bear,25,Male,Singapore\",\n",
    "    \"Ravi Kumar,33,Male,India\",\n",
    "    \"Ali Baba,40,Male,China\"\n",
    "]"
   ]
  },
  {
   "cell_type": "markdown",
   "id": "81812579",
   "metadata": {},
   "source": [
    "# Dot operator\n",
    "\n",
    "A function associated with a particular object is called a 'method'. Methods do something with the object they are associated with. For example, strings have a method called 'split'. It splits a string into multiple parts and returns the parts as a list. To call such methods, we use the dot operator.\n",
    "\n",
    "```python\n",
    "names = 'John,Jacob,Jaden,Jill,Jack'\n",
    "names_as_list = names.split(',')\n",
    "# names is a string and 'split' is a string method.\n",
    "# split(',') means split the string considering comma as separator\n",
    "```\n",
    "\n",
    "Now you can loop through the names using for-loop syntax like `for name in names_as_list:`.\n",
    "\n",
    "Similarly, lists have an `.append()` method which can be used to add more elements to a list. It is common to declare an empty list using empty square brackets (like `my_list = []`) and then adding elements to it using the append method (like `my_list.append(25)`)."
   ]
  },
  {
   "cell_type": "markdown",
   "id": "efaf5f33",
   "metadata": {},
   "source": [
    "# Data Types\n",
    "\n",
    "Every variable in Python has a 'type' based on the value assigned to it. Handling data types is quite common when doing data science tasks because data is usually provided as text and it's upto the programmer to convert it to any type that they want. This is important because what Python can do with the data differs by what type the data is.\n",
    "\n",
    "For example, 25 can be a number, and 25 also can be thought of as a string.\n",
    "\n",
    "```python\n",
    "a = 25\n",
    "b = '25'\n",
    "# a is a number, and b is a string\n",
    "print(a * 3) # will print 75 : 3 times 25\n",
    "print(b * 3) # will print 252525 : 3 times 25\n",
    "```\n",
    "\n",
    "To be clear about these things, we will have to check and convert data types wherever required. To convert a string value to an integer value, we use the `int()` function. Example `b = int('25')` will make 'b' a variable of type integer, even though we have given 25 in quotes. If we do `b = float('25')`, b will be a number with a decimal point (like 25.0). The other way is also possible where you convert a number into a string - `b = str(25)` will make b a string variable even though you have specified 25 without quotes."
   ]
  },
  {
   "cell_type": "markdown",
   "id": "ecc39602",
   "metadata": {},
   "source": [
    "# Preparing Data for Analysis\n",
    "\n",
    "Remember the list of strings that we created above -\n",
    "\n",
    "```python\n",
    "data_list = [\n",
    "    \"John Smith,35,Male,Australia\",\n",
    "    \"Trisha Patrick,32,Female,USA\",\n",
    "    \"Adam Stork,32,Male,USA\",\n",
    "    \"Ravi Kumar,33,Male,India\",\n",
    "    \"Ali Baba,40,Male,China\"\n",
    "]\n",
    "```\n",
    "\n",
    "Let's convert this list of bulky strings into a neat list of dictionaries with proper data type for age. What we are going to do is -\n",
    "\n",
    "* Create an empty list to store the processed lines\n",
    "* Loop over each string using the `for line in data_list:` syntax\n",
    "* Split each line into it's components using the `.split()` method\n",
    "* Create a dictionary with proper field names\n",
    "    * Use `int()` method to convert age into a number. Otherwise it will be stored as a string.\n",
    "    * Append this dictionary to the processed lines list using the `.append()` method"
   ]
  },
  {
   "cell_type": "code",
   "execution_count": 185,
   "id": "3e790301",
   "metadata": {},
   "outputs": [
    {
     "data": {
      "text/plain": [
       "[{'name': 'John Smith', 'age': 35, 'sex': 'Male', 'country': 'Australia'},\n",
       " {'name': 'Lily Pina', 'age': 13, 'sex': 'Female', 'country': 'USA'},\n",
       " {'name': 'Julie Singh', 'age': 16, 'sex': 'Female', 'country': 'India'},\n",
       " {'name': 'Rita Stuart', 'age': 20, 'sex': 'Female', 'country': 'Singapore'},\n",
       " {'name': 'Trisha Patrick', 'age': 32, 'sex': 'Female', 'country': 'USA'},\n",
       " {'name': 'Adam Stork', 'age': 32, 'sex': 'Male', 'country': 'USA'},\n",
       " {'name': 'Mohamed Ashiq', 'age': 20, 'sex': 'Male', 'country': 'Malaysia'},\n",
       " {'name': 'Yogi Bear', 'age': 25, 'sex': 'Male', 'country': 'Singapore'},\n",
       " {'name': 'Ravi Kumar', 'age': 33, 'sex': 'Male', 'country': 'India'},\n",
       " {'name': 'Ali Baba', 'age': 40, 'sex': 'Male', 'country': 'China'}]"
      ]
     },
     "execution_count": 185,
     "metadata": {},
     "output_type": "execute_result"
    }
   ],
   "source": [
    "processed_data = []\n",
    "for line in data_list:\n",
    "    fields = line.split(',')\n",
    "    processed_data.append({\n",
    "        'name': fields[0],\n",
    "        'age': int(fields[1]),\n",
    "        'sex': fields[2],\n",
    "        'country': fields[3]\n",
    "    })\n",
    "\n",
    "processed_data"
   ]
  },
  {
   "cell_type": "markdown",
   "id": "7f8f31c2",
   "metadata": {},
   "source": [
    "# Using the processed list\n",
    "\n",
    "Each element in a collection, can be a collection itself. That's what we have done here. We have created a collection of collections - or rather, a list of dictionaries.\n",
    "\n",
    "* `processed_data` is a list - it's elements are accessed using a numerical index (starting with 0)\n",
    "* `processed_data[0]` is the first element of the list. `processed_data[1]` is the second element and so on. Note that each element is a dictionary (that we appended in the previous step)\n",
    "* Elements of a dictionary are accessed using their key names. So `processed_data[0]['name']` means to fetch the first element (which is a dictionary) and then fetch the 'name' field from it."
   ]
  },
  {
   "cell_type": "code",
   "execution_count": 186,
   "id": "8b736abe",
   "metadata": {},
   "outputs": [
    {
     "name": "stdout",
     "output_type": "stream",
     "text": [
      "John Smith 35\n",
      "Lily Pina 13\n"
     ]
    }
   ],
   "source": [
    "print(processed_data[0]['name'], processed_data[0]['age'])\n",
    "print(processed_data[1]['name'], processed_data[1]['age'])"
   ]
  },
  {
   "cell_type": "markdown",
   "id": "169743c4",
   "metadata": {},
   "source": [
    "# Stepping into Data Science\n",
    "\n",
    "Let's print some statistics from our data. First calculate average age of people in our dataset -\n",
    " * Average is sum divided by count.\n",
    " * Count can be easily obtained using the `len()` function that returns the size of any string or collection passed as argument\n",
    " * Sum can be obtained by looping through the list and accumulating the age values into a sum variable.\n",
    " * Finally divide sum by count to get the average"
   ]
  },
  {
   "cell_type": "code",
   "execution_count": 187,
   "id": "85eb6e33",
   "metadata": {},
   "outputs": [
    {
     "name": "stdout",
     "output_type": "stream",
     "text": [
      "Number of persons: 10\n",
      "Average age: 26.6\n"
     ]
    }
   ],
   "source": [
    "sum_of_ages = 0\n",
    "number_of_persons = len(processed_data) # len function gives size of collection\n",
    "for person in processed_data:\n",
    "    sum_of_ages = sum_of_ages + person['age']\n",
    "    \n",
    "print(\"Number of persons:\", number_of_persons)\n",
    "print(\"Average age:\", sum_of_ages / number_of_persons)"
   ]
  },
  {
   "cell_type": "markdown",
   "id": "99316d72",
   "metadata": {},
   "source": [
    "# Conditions\n",
    "\n",
    "A condition specified using 'if', 'elif' and 'else' keywords help us branch out our programs execution based on the given condition. Statement blocks to be executed  Example -\n",
    "\n",
    "```python\n",
    "if age < 18:\n",
    "    person_type = 'kid'\n",
    "    print('Person is just a kid')\n",
    "elif age < 60: # elif means else-if\n",
    "    person_type = 'adult'\n",
    "    print('Person is an adult')\n",
    "else:\n",
    "    person_type = 'senior'\n",
    "    print('Person is a senior')\n",
    "```\n",
    "\n",
    "The `<` in `age < 18` is a 'comparison operator'. Other comparison operators are `<`, `>`, `<=`, `>=`, `==`, `!=`. `==` means True if both sides are equal. `!=` means True if both sides are not equal.\n",
    "\n",
    "Two more operators are `in` and `not in`. These are for conditions where you have to check whether a value is in a collection. Example `if country in country_list:` or `if student not in class:`.\n",
    "\n",
    "Let's use the conditions to report how many of our people are eligible to vote -"
   ]
  },
  {
   "cell_type": "code",
   "execution_count": 188,
   "id": "3a18b372",
   "metadata": {},
   "outputs": [
    {
     "name": "stdout",
     "output_type": "stream",
     "text": [
      "Number of voters: 6\n",
      "Number of non voters: 4\n"
     ]
    }
   ],
   "source": [
    "number_of_voters = 0\n",
    "number_of_nonvoters = 0\n",
    "for person in processed_data:\n",
    "    # person['country'] gives a country name\n",
    "    # which can be used to get voting age\n",
    "    # from the voting_ages dictionary\n",
    "    if person['age'] > voting_ages[person['country']]:\n",
    "        number_of_voters = number_of_voters + 1\n",
    "    else:\n",
    "        number_of_nonvoters = number_of_nonvoters + 1\n",
    "\n",
    "print(\"Number of voters:\", number_of_voters)\n",
    "print(\"Number of non voters:\", number_of_nonvoters)"
   ]
  },
  {
   "cell_type": "markdown",
   "id": "f840afe4",
   "metadata": {},
   "source": [
    "# Logical Operators\n",
    "\n",
    "Conditions often require to be combined to be useful. For example a person should be over 18 years and should be a male. To represent combinations of conditions like this, Python has logical operators - `and`, `or` and `not`.\n",
    "\n",
    "```python\n",
    "if age < 18 and  sex == \"Male\":\n",
    "    print(\"Male Child\")\n",
    "```\n",
    "\n",
    "Another example -\n",
    "```python\n",
    "if country == \"India\" or country == \"China\":\n",
    "    print(\"Asia\")\n",
    "elif country == \"Spain\" or country == \"Italy\":\n",
    "    print(\"Europe\")\n",
    "```"
   ]
  },
  {
   "cell_type": "markdown",
   "id": "c7a8e6fb",
   "metadata": {},
   "source": [
    "# Slicing Operator\n",
    "\n",
    "Slicing is an operation that can be used on lists and strings in Python. It is quite simple and very useful to quickly fetch a range of items from a list (or a range of characters from a string).\n",
    "\n",
    "We access list items with their numerical indexes, but we can also give a range inside the square brackets to get multiple items at once - sort of like a sub-list. For example, `my_list[2:6]` will return the elements from index 2 to 5. Register this - `[a:b]` means from 'a', upto, but not including 'b'. Also remember index starts with zero.\n",
    "\n",
    "Using negative values with the slicing operator is also possible. It simply means elements are counted from the end. Or you subtract the values from the length. That is, if the length of the list is `l`, then `[-a:-b]` means `[l-a:l-b]`\n",
    "\n",
    "Leaving out the values could means start from the beginning or till the end. That is, `[:b]` means from starting, upto, but not including 'b'. And `[a:]` means from a, until the end.\n",
    "\n",
    "```python\n",
    "my_list = ['apple', 'orange', 'grape', 'melon', 'lemon', 'cherry', 'banana', 'strawberry']\n",
    "print(my_list[2:6])   # prints ['grape', 'melon', 'lemon', 'cherry']\n",
    "print(my_list[2:])    # prints ['grape', 'melon', 'lemon', 'cherry', 'banana', 'strawberry']\n",
    "print(my_list[:6])    # prints ['apple', 'orange', 'grape', 'melon', 'lemon', 'cherry']\n",
    "\n",
    "print(my_list[-6:-2]) # prints ['grape', 'melon', 'lemon', 'cherry']\n",
    "print(my_list[:-2])   # prints [\n",
    "```\n",
    "\n",
    "This works exactly the same with used with strings. For example, if `my_name` is a string variable, `my_name[-2:]` means last two characters from the given string. `my_name[:2]` means first two characters.\n",
    "\n",
    "Experiment and learn the slicing operator until you are confident."
   ]
  },
  {
   "cell_type": "markdown",
   "id": "0d6856ca",
   "metadata": {},
   "source": [
    "# Functions\n",
    "\n",
    "Functions are named, reusable bits of code. Which you first define and then call whenever required. Defining our own functions will help modularize our code and reduce duplication of code. It also makes it convenient to introduce changes in future. For example, let's introduce a concept of short names for people in our data set. For now, a short name is made by joining the first letter of the first name and the first 4 letters of the last name. So for \"John Smith\", the short name will be \"JSmit\".\n",
    "\n",
    "```python\n",
    "name = \"John Smith\"\n",
    "first_letter = name[:1]\n",
    "last_name = name.split(\" \")[1]\n",
    "short_last_name = last_name[:4]\n",
    "short_name = first_letter + short_last_name\n",
    "```\n",
    "\n",
    "The above code gives short name for \"John Smith\". But when we need short name for \"Jacob Nilson\", we have to write the same set of 5 lines of code again. Any time we change our formula for creating short names, we have to change all this code. This is where functions help.\n",
    "\n",
    "Functions allow us to package processing like this and reuse it as and where it is required. Functions are defined using the `def` keyword. Then a function name (in this example 'short_name') and then in brackets, a list of parameters that the function can take as input. Similar to the for loop and if conditions, the set of statements forming the function block is indented below the declaration line.\n",
    "\n",
    "```python\n",
    "def short_name(full_name):\n",
    "    first_letter = full_name[:1]\n",
    "    last_name = full_name.split(\" \")[1]\n",
    "    short_last_name = last_name[:4]\n",
    "    short_name = first_letter + short_last_name\n",
    "    return short_name\n",
    "\n",
    "print(short_name(\"John Smith\"))\n",
    "print(short_name(\"Jacob Nilson\"))\n",
    "print(short_name(\"James Maroon\"))\n",
    "print(short_name(\"Jill Jack\"))\n",
    "```\n",
    "\n",
    "Now wherever we need this functionality, we can just call this function by it's name. We don't have to write the same code again and again.\n",
    "\n",
    "Another advantage is when introducing a change, we just make the change in the function definition and it reflects in all places where we have called the function. So whenever you're implementing a formula or an algorithm, it's better to define it as a function and then call it wherever required."
   ]
  },
  {
   "cell_type": "code",
   "execution_count": 189,
   "id": "15fc6a16",
   "metadata": {},
   "outputs": [
    {
     "name": "stdout",
     "output_type": "stream",
     "text": [
      "JSmit\n",
      "JNils\n"
     ]
    }
   ],
   "source": [
    "def short_name(full_name):\n",
    "    first_letter = full_name[:1]\n",
    "    last_name = full_name.split(\" \")[1]\n",
    "    short_last_name = last_name[:4]\n",
    "    short_name = first_letter + short_last_name\n",
    "    return short_name\n",
    "\n",
    "\n",
    "print(short_name(\"John Smith\"))\n",
    "print(short_name(\"Jacob Nilson\"))"
   ]
  },
  {
   "cell_type": "markdown",
   "id": "e5dc59f0",
   "metadata": {},
   "source": [
    "# Modules\n",
    "\n",
    "Functions defined like the above are usually grouped together into a 'module' that we import before using the function. For example there are a ton of functions in the math module in Python. Keeping all functions in the global scope is bad for manageability. So we arrange them into modules and 'import' them into our programs if and when required.\n",
    "\n",
    "Say we need the square root function. It's in the math module. So we can import the math module and call math.sqrt function from it.\n",
    "\n",
    "```python\n",
    "import math\n",
    "print(math.sqrt(25))\n",
    "```\n",
    "\n",
    "Or, we can import only the sqrt function and use it without specifying a module name.\n",
    "```python\n",
    "from math import sqrt\n",
    "print(sqrt(25))\n",
    "```\n",
    "\n",
    "As you advance, you will not only define your own methods, you will also organize your code into modules."
   ]
  },
  {
   "cell_type": "code",
   "execution_count": 193,
   "id": "364a49ca",
   "metadata": {},
   "outputs": [
    {
     "data": {
      "text/plain": [
       "7.3484692283495345"
      ]
     },
     "execution_count": 193,
     "metadata": {},
     "output_type": "execute_result"
    }
   ],
   "source": [
    "from math import sqrt\n",
    "sqrt(54)"
   ]
  },
  {
   "cell_type": "code",
   "execution_count": null,
   "id": "74f249ca",
   "metadata": {},
   "outputs": [],
   "source": []
  }
 ],
 "metadata": {
  "kernelspec": {
   "display_name": "Python 3 (ipykernel)",
   "language": "python",
   "name": "python3"
  },
  "language_info": {
   "codemirror_mode": {
    "name": "ipython",
    "version": 3
   },
   "file_extension": ".py",
   "mimetype": "text/x-python",
   "name": "python",
   "nbconvert_exporter": "python",
   "pygments_lexer": "ipython3",
   "version": "3.9.6"
  }
 },
 "nbformat": 4,
 "nbformat_minor": 5
}
